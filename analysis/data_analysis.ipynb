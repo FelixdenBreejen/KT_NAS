{
 "cells": [
  {
   "cell_type": "code",
   "execution_count": 1,
   "metadata": {},
   "outputs": [],
   "source": [
    "import matplotlib.pyplot as plt\n",
    "import numpy as np\n",
    "import json\n",
    "\n",
    "from ktnas.read_data import read_microwave1\n"
   ]
  },
  {
   "cell_type": "code",
   "execution_count": 2,
   "metadata": {},
   "outputs": [
    {
     "data": {
      "text/plain": [
       "'/home/felix/kt_nas'"
      ]
     },
     "execution_count": 2,
     "metadata": {},
     "output_type": "execute_result"
    }
   ],
   "source": [
    "import os\n",
    "while '/analysis' in os.getcwd():\n",
    "    os.chdir('..')\n",
    "\n",
    "os.getcwd()"
   ]
  },
  {
   "cell_type": "code",
   "execution_count": 3,
   "metadata": {},
   "outputs": [
    {
     "data": {
      "text/html": [
       "<div>\n",
       "<style scoped>\n",
       "    .dataframe tbody tr th:only-of-type {\n",
       "        vertical-align: middle;\n",
       "    }\n",
       "\n",
       "    .dataframe tbody tr th {\n",
       "        vertical-align: top;\n",
       "    }\n",
       "\n",
       "    .dataframe thead th {\n",
       "        text-align: right;\n",
       "    }\n",
       "</style>\n",
       "<table border=\"1\" class=\"dataframe\">\n",
       "  <thead>\n",
       "    <tr style=\"text-align: right;\">\n",
       "      <th></th>\n",
       "      <th>ticket_hist_id</th>\n",
       "      <th>seq</th>\n",
       "      <th>alarm_list</th>\n",
       "      <th>level_list</th>\n",
       "      <th>weather_list</th>\n",
       "      <th>label</th>\n",
       "      <th>insert_dt</th>\n",
       "      <th>update_dt</th>\n",
       "      <th>trainig_yn</th>\n",
       "      <th>effect_dt</th>\n",
       "    </tr>\n",
       "  </thead>\n",
       "  <tbody>\n",
       "    <tr>\n",
       "      <th>0</th>\n",
       "      <td>2074513</td>\n",
       "      <td>0</td>\n",
       "      <td>[\"Radio loss of frame\", \"Radio loss of frame\",...</td>\n",
       "      <td>[-49.0, -49.0]</td>\n",
       "      <td>[0.0, 0.0, 0.0, 0.1473684210526316, 0.14736842...</td>\n",
       "      <td>1</td>\n",
       "      <td>20201202185320</td>\n",
       "      <td>20201203110754</td>\n",
       "      <td>Y</td>\n",
       "      <td>20200701003429</td>\n",
       "    </tr>\n",
       "    <tr>\n",
       "      <th>1</th>\n",
       "      <td>2074513</td>\n",
       "      <td>1</td>\n",
       "      <td>[\"Radio loss of frame\", \"Local radio loss of f...</td>\n",
       "      <td>[-49.0, -49.0]</td>\n",
       "      <td>[0.0, 0.0, 0.0, 0.1473684210526316, 0.14736842...</td>\n",
       "      <td>1</td>\n",
       "      <td>20201202185320</td>\n",
       "      <td>20201203110754</td>\n",
       "      <td>Y</td>\n",
       "      <td>20200701003429</td>\n",
       "    </tr>\n",
       "    <tr>\n",
       "      <th>2</th>\n",
       "      <td>2074513</td>\n",
       "      <td>2</td>\n",
       "      <td>[\"Local radio loss of frame\", \"Radio loss of f...</td>\n",
       "      <td>[-49.0, -40.0]</td>\n",
       "      <td>[0.0, 0.0, 0.0, 0.1473684210526316, 0.14736842...</td>\n",
       "      <td>1</td>\n",
       "      <td>20201202185320</td>\n",
       "      <td>20201203110754</td>\n",
       "      <td>Y</td>\n",
       "      <td>20200701003429</td>\n",
       "    </tr>\n",
       "    <tr>\n",
       "      <th>3</th>\n",
       "      <td>2074513</td>\n",
       "      <td>3</td>\n",
       "      <td>[\"Radio loss of frame\", \"Radio loss of frame\",...</td>\n",
       "      <td>[-49.0, -40.0]</td>\n",
       "      <td>[0.0, 0.0, 0.0, 0.1473684210526316, 0.14736842...</td>\n",
       "      <td>1</td>\n",
       "      <td>20201202185320</td>\n",
       "      <td>20201203110754</td>\n",
       "      <td>Y</td>\n",
       "      <td>20200701003429</td>\n",
       "    </tr>\n",
       "    <tr>\n",
       "      <th>4</th>\n",
       "      <td>2074513</td>\n",
       "      <td>4</td>\n",
       "      <td>[\"Radio loss of frame\", \"Local radio loss of f...</td>\n",
       "      <td>[-49.0, -39.0]</td>\n",
       "      <td>[0.0, 0.0, 0.0, 0.1473684210526316, 0.14736842...</td>\n",
       "      <td>1</td>\n",
       "      <td>20201202185320</td>\n",
       "      <td>20201203110754</td>\n",
       "      <td>Y</td>\n",
       "      <td>20200701003429</td>\n",
       "    </tr>\n",
       "  </tbody>\n",
       "</table>\n",
       "</div>"
      ],
      "text/plain": [
       "   ticket_hist_id  seq                                         alarm_list  \\\n",
       "0         2074513    0  [\"Radio loss of frame\", \"Radio loss of frame\",...   \n",
       "1         2074513    1  [\"Radio loss of frame\", \"Local radio loss of f...   \n",
       "2         2074513    2  [\"Local radio loss of frame\", \"Radio loss of f...   \n",
       "3         2074513    3  [\"Radio loss of frame\", \"Radio loss of frame\",...   \n",
       "4         2074513    4  [\"Radio loss of frame\", \"Local radio loss of f...   \n",
       "\n",
       "       level_list                                       weather_list  label  \\\n",
       "0  [-49.0, -49.0]  [0.0, 0.0, 0.0, 0.1473684210526316, 0.14736842...      1   \n",
       "1  [-49.0, -49.0]  [0.0, 0.0, 0.0, 0.1473684210526316, 0.14736842...      1   \n",
       "2  [-49.0, -40.0]  [0.0, 0.0, 0.0, 0.1473684210526316, 0.14736842...      1   \n",
       "3  [-49.0, -40.0]  [0.0, 0.0, 0.0, 0.1473684210526316, 0.14736842...      1   \n",
       "4  [-49.0, -39.0]  [0.0, 0.0, 0.0, 0.1473684210526316, 0.14736842...      1   \n",
       "\n",
       "        insert_dt       update_dt trainig_yn       effect_dt  \n",
       "0  20201202185320  20201203110754          Y  20200701003429  \n",
       "1  20201202185320  20201203110754          Y  20200701003429  \n",
       "2  20201202185320  20201203110754          Y  20200701003429  \n",
       "3  20201202185320  20201203110754          Y  20200701003429  \n",
       "4  20201202185320  20201203110754          Y  20200701003429  "
      ]
     },
     "execution_count": 3,
     "metadata": {},
     "output_type": "execute_result"
    }
   ],
   "source": [
    "df = read_microwave1()\n",
    "df.head()"
   ]
  },
  {
   "cell_type": "code",
   "execution_count": 4,
   "metadata": {},
   "outputs": [
    {
     "data": {
      "text/html": [
       "<div>\n",
       "<style scoped>\n",
       "    .dataframe tbody tr th:only-of-type {\n",
       "        vertical-align: middle;\n",
       "    }\n",
       "\n",
       "    .dataframe tbody tr th {\n",
       "        vertical-align: top;\n",
       "    }\n",
       "\n",
       "    .dataframe thead th {\n",
       "        text-align: right;\n",
       "    }\n",
       "</style>\n",
       "<table border=\"1\" class=\"dataframe\">\n",
       "  <thead>\n",
       "    <tr style=\"text-align: right;\">\n",
       "      <th></th>\n",
       "      <th>ticket_hist_id</th>\n",
       "      <th>seq</th>\n",
       "      <th>alarm_list</th>\n",
       "      <th>level_list</th>\n",
       "      <th>weather_list</th>\n",
       "      <th>label</th>\n",
       "      <th>insert_dt</th>\n",
       "      <th>update_dt</th>\n",
       "      <th>trainig_yn</th>\n",
       "      <th>effect_dt</th>\n",
       "    </tr>\n",
       "  </thead>\n",
       "  <tbody>\n",
       "    <tr>\n",
       "      <th>0</th>\n",
       "      <td>2074513</td>\n",
       "      <td>0</td>\n",
       "      <td>[\"Radio loss of frame\", \"Radio loss of frame\",...</td>\n",
       "      <td>[-49.0, -49.0]</td>\n",
       "      <td>[0.0, 0.0, 0.0, 0.1473684210526316, 0.14736842...</td>\n",
       "      <td>1</td>\n",
       "      <td>20201202185320</td>\n",
       "      <td>20201203110754</td>\n",
       "      <td>Y</td>\n",
       "      <td>20200701003429</td>\n",
       "    </tr>\n",
       "    <tr>\n",
       "      <th>1</th>\n",
       "      <td>2074513</td>\n",
       "      <td>1</td>\n",
       "      <td>[\"Radio loss of frame\", \"Local radio loss of f...</td>\n",
       "      <td>[-49.0, -49.0]</td>\n",
       "      <td>[0.0, 0.0, 0.0, 0.1473684210526316, 0.14736842...</td>\n",
       "      <td>1</td>\n",
       "      <td>20201202185320</td>\n",
       "      <td>20201203110754</td>\n",
       "      <td>Y</td>\n",
       "      <td>20200701003429</td>\n",
       "    </tr>\n",
       "    <tr>\n",
       "      <th>2</th>\n",
       "      <td>2074513</td>\n",
       "      <td>2</td>\n",
       "      <td>[\"Local radio loss of frame\", \"Radio loss of f...</td>\n",
       "      <td>[-49.0, -40.0]</td>\n",
       "      <td>[0.0, 0.0, 0.0, 0.1473684210526316, 0.14736842...</td>\n",
       "      <td>1</td>\n",
       "      <td>20201202185320</td>\n",
       "      <td>20201203110754</td>\n",
       "      <td>Y</td>\n",
       "      <td>20200701003429</td>\n",
       "    </tr>\n",
       "    <tr>\n",
       "      <th>3</th>\n",
       "      <td>2074513</td>\n",
       "      <td>3</td>\n",
       "      <td>[\"Radio loss of frame\", \"Radio loss of frame\",...</td>\n",
       "      <td>[-49.0, -40.0]</td>\n",
       "      <td>[0.0, 0.0, 0.0, 0.1473684210526316, 0.14736842...</td>\n",
       "      <td>1</td>\n",
       "      <td>20201202185320</td>\n",
       "      <td>20201203110754</td>\n",
       "      <td>Y</td>\n",
       "      <td>20200701003429</td>\n",
       "    </tr>\n",
       "    <tr>\n",
       "      <th>4</th>\n",
       "      <td>2074513</td>\n",
       "      <td>4</td>\n",
       "      <td>[\"Radio loss of frame\", \"Local radio loss of f...</td>\n",
       "      <td>[-49.0, -39.0]</td>\n",
       "      <td>[0.0, 0.0, 0.0, 0.1473684210526316, 0.14736842...</td>\n",
       "      <td>1</td>\n",
       "      <td>20201202185320</td>\n",
       "      <td>20201203110754</td>\n",
       "      <td>Y</td>\n",
       "      <td>20200701003429</td>\n",
       "    </tr>\n",
       "  </tbody>\n",
       "</table>\n",
       "</div>"
      ],
      "text/plain": [
       "   ticket_hist_id  seq                                         alarm_list  \\\n",
       "0         2074513    0  [\"Radio loss of frame\", \"Radio loss of frame\",...   \n",
       "1         2074513    1  [\"Radio loss of frame\", \"Local radio loss of f...   \n",
       "2         2074513    2  [\"Local radio loss of frame\", \"Radio loss of f...   \n",
       "3         2074513    3  [\"Radio loss of frame\", \"Radio loss of frame\",...   \n",
       "4         2074513    4  [\"Radio loss of frame\", \"Local radio loss of f...   \n",
       "\n",
       "       level_list                                       weather_list  label  \\\n",
       "0  [-49.0, -49.0]  [0.0, 0.0, 0.0, 0.1473684210526316, 0.14736842...      1   \n",
       "1  [-49.0, -49.0]  [0.0, 0.0, 0.0, 0.1473684210526316, 0.14736842...      1   \n",
       "2  [-49.0, -40.0]  [0.0, 0.0, 0.0, 0.1473684210526316, 0.14736842...      1   \n",
       "3  [-49.0, -40.0]  [0.0, 0.0, 0.0, 0.1473684210526316, 0.14736842...      1   \n",
       "4  [-49.0, -39.0]  [0.0, 0.0, 0.0, 0.1473684210526316, 0.14736842...      1   \n",
       "\n",
       "        insert_dt       update_dt trainig_yn       effect_dt  \n",
       "0  20201202185320  20201203110754          Y  20200701003429  \n",
       "1  20201202185320  20201203110754          Y  20200701003429  \n",
       "2  20201202185320  20201203110754          Y  20200701003429  \n",
       "3  20201202185320  20201203110754          Y  20200701003429  \n",
       "4  20201202185320  20201203110754          Y  20200701003429  "
      ]
     },
     "execution_count": 4,
     "metadata": {},
     "output_type": "execute_result"
    }
   ],
   "source": [
    "df_small = df.loc[df['seq'] == 0]\n",
    "df.head()"
   ]
  },
  {
   "cell_type": "markdown",
   "metadata": {},
   "source": [
    "The full dataset is super big"
   ]
  },
  {
   "cell_type": "code",
   "execution_count": 5,
   "metadata": {},
   "outputs": [
    {
     "data": {
      "text/plain": [
       "101776"
      ]
     },
     "execution_count": 5,
     "metadata": {},
     "output_type": "execute_result"
    }
   ],
   "source": [
    "df.shape[0]"
   ]
  },
  {
   "cell_type": "markdown",
   "metadata": {},
   "source": [
    "But the dataset with seq==0 is small"
   ]
  },
  {
   "cell_type": "code",
   "execution_count": 6,
   "metadata": {},
   "outputs": [
    {
     "data": {
      "text/plain": [
       "675"
      ]
     },
     "execution_count": 6,
     "metadata": {},
     "output_type": "execute_result"
    }
   ],
   "source": [
    "df_small.shape[0]"
   ]
  },
  {
   "cell_type": "markdown",
   "metadata": {},
   "source": [
    "Labels are skewed: many invalid alarms(1), very few valid(2) and external(3)"
   ]
  },
  {
   "cell_type": "code",
   "execution_count": 7,
   "metadata": {},
   "outputs": [
    {
     "data": {
      "text/plain": [
       "<AxesSubplot:>"
      ]
     },
     "execution_count": 7,
     "metadata": {},
     "output_type": "execute_result"
    },
    {
     "data": {
      "image/png": "[encoded data removed]",
      "text/plain": [
       "<Figure size 432x288 with 1 Axes>"
      ]
     },
     "metadata": {
      "needs_background": "light"
     },
     "output_type": "display_data"
    }
   ],
   "source": [
    "df_small['label'].hist()"
   ]
  },
  {
   "cell_type": "code",
   "execution_count": 8,
   "metadata": {},
   "outputs": [
    {
     "name": "stderr",
     "output_type": "stream",
     "text": [
      "/tmp/ipykernel_14253/3428462691.py:5: SettingWithCopyWarning: \n",
      "A value is trying to be set on a copy of a slice from a DataFrame\n",
      "\n",
      "See the caveats in the documentation: https://pandas.pydata.org/pandas-docs/stable/user_guide/indexing.html#returning-a-view-versus-a-copy\n",
      "  df_small['alarm_list'][index] = array\n"
     ]
    },
    {
     "data": {
      "text/html": [
       "<div>\n",
       "<style scoped>\n",
       "    .dataframe tbody tr th:only-of-type {\n",
       "        vertical-align: middle;\n",
       "    }\n",
       "\n",
       "    .dataframe tbody tr th {\n",
       "        vertical-align: top;\n",
       "    }\n",
       "\n",
       "    .dataframe thead th {\n",
       "        text-align: right;\n",
       "    }\n",
       "</style>\n",
       "<table border=\"1\" class=\"dataframe\">\n",
       "  <thead>\n",
       "    <tr style=\"text-align: right;\">\n",
       "      <th></th>\n",
       "      <th>ticket_hist_id</th>\n",
       "      <th>seq</th>\n",
       "      <th>alarm_list</th>\n",
       "      <th>level_list</th>\n",
       "      <th>weather_list</th>\n",
       "      <th>label</th>\n",
       "      <th>insert_dt</th>\n",
       "      <th>update_dt</th>\n",
       "      <th>trainig_yn</th>\n",
       "      <th>effect_dt</th>\n",
       "    </tr>\n",
       "  </thead>\n",
       "  <tbody>\n",
       "    <tr>\n",
       "      <th>0</th>\n",
       "      <td>2074513</td>\n",
       "      <td>0</td>\n",
       "      <td>[\"Radio loss of frame\", \"Local radio loss of f...</td>\n",
       "      <td>[-49.0, -49.0]</td>\n",
       "      <td>[0.0, 0.0, 0.0, 0.1473684210526316, 0.14736842...</td>\n",
       "      <td>1</td>\n",
       "      <td>20201202185320</td>\n",
       "      <td>20201203110754</td>\n",
       "      <td>Y</td>\n",
       "      <td>20200701003429</td>\n",
       "    </tr>\n",
       "    <tr>\n",
       "      <th>5</th>\n",
       "      <td>2074520</td>\n",
       "      <td>0</td>\n",
       "      <td>[\"Receive path has been lost\", \"The pseudowire...</td>\n",
       "      <td>[-46.7000007629395, -43.9000015258789]</td>\n",
       "      <td>[0.0, 0.0, 0.0, 0.0, 0.22033898305084745, 0.0,...</td>\n",
       "      <td>1</td>\n",
       "      <td>20201202185320</td>\n",
       "      <td>20201203110754</td>\n",
       "      <td>Y</td>\n",
       "      <td>20200701060534</td>\n",
       "    </tr>\n",
       "    <tr>\n",
       "      <th>52</th>\n",
       "      <td>2074533</td>\n",
       "      <td>0</td>\n",
       "      <td>[\"Radio loss of frame\", \"Radio excessive BER\"]</td>\n",
       "      <td>[-81.0, -56.0]</td>\n",
       "      <td>[0.0, 0.0, 0.0, 0.0, 0.0, 0.0, 22.052380952380...</td>\n",
       "      <td>1</td>\n",
       "      <td>20201202185320</td>\n",
       "      <td>20201203110754</td>\n",
       "      <td>Y</td>\n",
       "      <td>20200701102158</td>\n",
       "    </tr>\n",
       "    <tr>\n",
       "      <th>57</th>\n",
       "      <td>2074534</td>\n",
       "      <td>0</td>\n",
       "      <td>[\"AIS-INSERT\", \"EMPTY\"]</td>\n",
       "      <td>[-44.5, -43.0999984741211]</td>\n",
       "      <td>[0.0, 0.0, 0.0, 0.0, 0.0, 0.0, 23.916666666666...</td>\n",
       "      <td>1</td>\n",
       "      <td>20201202185320</td>\n",
       "      <td>20201203110754</td>\n",
       "      <td>Y</td>\n",
       "      <td>20200701102335</td>\n",
       "    </tr>\n",
       "    <tr>\n",
       "      <th>58</th>\n",
       "      <td>2074541</td>\n",
       "      <td>0</td>\n",
       "      <td>[\"Radio loss of frame\", \"Local radio loss of f...</td>\n",
       "      <td>[-81.0, -51.0]</td>\n",
       "      <td>[0.7, 2.033333333333333, 2.3, 2.3, 2.3, 0.0, 2...</td>\n",
       "      <td>1</td>\n",
       "      <td>20201202185320</td>\n",
       "      <td>20201203110754</td>\n",
       "      <td>Y</td>\n",
       "      <td>20200701111901</td>\n",
       "    </tr>\n",
       "  </tbody>\n",
       "</table>\n",
       "</div>"
      ],
      "text/plain": [
       "    ticket_hist_id  seq                                         alarm_list  \\\n",
       "0          2074513    0  [\"Radio loss of frame\", \"Local radio loss of f...   \n",
       "5          2074520    0  [\"Receive path has been lost\", \"The pseudowire...   \n",
       "52         2074533    0     [\"Radio loss of frame\", \"Radio excessive BER\"]   \n",
       "57         2074534    0                            [\"AIS-INSERT\", \"EMPTY\"]   \n",
       "58         2074541    0  [\"Radio loss of frame\", \"Local radio loss of f...   \n",
       "\n",
       "                                level_list  \\\n",
       "0                           [-49.0, -49.0]   \n",
       "5   [-46.7000007629395, -43.9000015258789]   \n",
       "52                          [-81.0, -56.0]   \n",
       "57              [-44.5, -43.0999984741211]   \n",
       "58                          [-81.0, -51.0]   \n",
       "\n",
       "                                         weather_list  label       insert_dt  \\\n",
       "0   [0.0, 0.0, 0.0, 0.1473684210526316, 0.14736842...      1  20201202185320   \n",
       "5   [0.0, 0.0, 0.0, 0.0, 0.22033898305084745, 0.0,...      1  20201202185320   \n",
       "52  [0.0, 0.0, 0.0, 0.0, 0.0, 0.0, 22.052380952380...      1  20201202185320   \n",
       "57  [0.0, 0.0, 0.0, 0.0, 0.0, 0.0, 23.916666666666...      1  20201202185320   \n",
       "58  [0.7, 2.033333333333333, 2.3, 2.3, 2.3, 0.0, 2...      1  20201202185320   \n",
       "\n",
       "         update_dt trainig_yn       effect_dt  \n",
       "0   20201203110754          Y  20200701003429  \n",
       "5   20201203110754          Y  20200701060534  \n",
       "52  20201203110754          Y  20200701102158  \n",
       "57  20201203110754          Y  20200701102335  \n",
       "58  20201203110754          Y  20200701111901  "
      ]
     },
     "execution_count": 8,
     "metadata": {},
     "output_type": "execute_result"
    }
   ],
   "source": [
    "for index, value in df_small['alarm_list'].items():\n",
    "    array = json.loads(value)\n",
    "    array = list(set(array))\n",
    "    array = json.dumps(array)\n",
    "    df_small['alarm_list'][index] = array\n",
    "\n",
    "df_small.head()"
   ]
  },
  {
   "cell_type": "code",
   "execution_count": 9,
   "metadata": {},
   "outputs": [
    {
     "data": {
      "text/plain": [
       "68"
      ]
     },
     "execution_count": 9,
     "metadata": {},
     "output_type": "execute_result"
    }
   ],
   "source": [
    "# List of all unique alarm list errors\n",
    "alarm_list_texts = []\n",
    "for index, value in df_small['alarm_list'].items():\n",
    "    alarm_list_texts += json.loads(value)\n",
    "\n",
    "alarm_list_texts = list(set(alarm_list_texts))\n",
    "len(alarm_list_texts)\n",
    "    "
   ]
  },
  {
   "cell_type": "markdown",
   "metadata": {},
   "source": [
    "The alarm list is quite varied, with EMPTY the most common one.\n",
    "Problem is of course that every alarm has multiple alarm list texts"
   ]
  },
  {
   "cell_type": "code",
   "execution_count": 10,
   "metadata": {},
   "outputs": [
    {
     "data": {
      "image/png": "[encoded data removed]",
      "text/plain": [
       "<Figure size 432x288 with 1 Axes>"
      ]
     },
     "metadata": {},
     "output_type": "display_data"
    }
   ],
   "source": [
    "alarm_list_count = [0] * len(alarm_list_texts)\n",
    "for _, value in df_small['alarm_list'].items():\n",
    "    array = json.loads(value)\n",
    "    for alarm_text in array:\n",
    "        index = alarm_list_texts.index(alarm_text)\n",
    "        alarm_list_count[index] += 1\n",
    "\n",
    "plt.pie(x=alarm_list_count, labels=alarm_list_texts)\n",
    "plt.show()"
   ]
  },
  {
   "cell_type": "markdown",
   "metadata": {},
   "source": [
    "Except for the alarm list and the level list, all other columns are the same over all seq."
   ]
  },
  {
   "cell_type": "code",
   "execution_count": 11,
   "metadata": {},
   "outputs": [
    {
     "data": {
      "text/plain": [
       "seq             986\n",
       "alarm_list      986\n",
       "level_list      198\n",
       "weather_list      1\n",
       "label             1\n",
       "insert_dt         1\n",
       "update_dt         1\n",
       "trainig_yn        1\n",
       "effect_dt         1\n",
       "dtype: int64"
      ]
     },
     "execution_count": 11,
     "metadata": {},
     "output_type": "execute_result"
    }
   ],
   "source": [
    "df.groupby('ticket_hist_id').nunique().max()"
   ]
  },
  {
   "cell_type": "markdown",
   "metadata": {},
   "source": [
    "Proposed data change:\n",
    "- log(#seq)\n",
    "- One-hot encoding alarm list, aggregating all alarms over the seqs\n",
    "- Overall min / max of level_list \n",
    "- Weather list as it is\n",
    "\n",
    "However, there are only 675 data points ....\n",
    "-> Useless data set\n"
   ]
  },
  {
   "cell_type": "markdown",
   "metadata": {},
   "source": []
  }
 ],
 "metadata": {
  "interpreter": {
   "hash": "45fed3c8e9be8c78c8839c92283e157651004b2d0694fc184c574c77fec98fea"
  },
  "kernelspec": {
   "display_name": "Python 3.9.12 ('kt_nas')",
   "language": "python",
   "name": "python3"
  },
  "language_info": {
   "codemirror_mode": {
    "name": "ipython",
    "version": 3
   },
   "file_extension": ".py",
   "mimetype": "text/x-python",
   "name": "python",
   "nbconvert_exporter": "python",
   "pygments_lexer": "ipython3",
   "version": "3.9.12"
  },
  "orig_nbformat": 4
 },
 "nbformat": 4,
 "nbformat_minor": 2
}
